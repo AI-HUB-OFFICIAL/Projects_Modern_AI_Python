{
  "nbformat": 4,
  "nbformat_minor": 0,
  "metadata": {
    "colab": {
      "provenance": []
    },
    "kernelspec": {
      "name": "python3",
      "display_name": "Python 3"
    },
    "language_info": {
      "name": "python"
    }
  },
  "cells": [
    {
      "cell_type": "code",
      "execution_count": null,
      "metadata": {
        "colab": {
          "base_uri": "https://localhost:8080/"
        },
        "id": "hoVfrMnn5aqM",
        "outputId": "3d2c7e8b-a24c-4de8-b6cf-a77bf11d76f9"
      },
      "outputs": [
        {
          "output_type": "stream",
          "name": "stdout",
          "text": [
            "Enter a mixed list (seperated by commas): Nehan, 345, 453, true, python, false, 33.56\n",
            "{'numeric': [63, 345, 453, 33.56], 'text': ['Nehan', 'python'], 'other': [True, False]}\n",
            "\n",
            "\n",
            "{'Original': 97, 'Product of numeric item with 2': 194, 'Square root of numeric item': 9.848857801796104}\n",
            "{'Original': 'Nehan', 'String item in uppercase': 'NEHAN'}\n",
            "{'Original': 345, 'Product of numeric item with 2': 690, 'Square root of numeric item': 18.57417562100671}\n",
            "{'Original': 453, 'Product of numeric item with 2': 906, 'Square root of numeric item': 21.283796653792763}\n",
            "{'Original': True, 'Received bool item': True}\n",
            "{'Original': 'python', 'String item in uppercase': 'PYTHON'}\n",
            "{'Original': False, 'Received bool item': False}\n",
            "{'Original': 33.56, 'Product of numeric item with 2': 67.12, 'Square root of numeric item': 5.793099343184096}\n",
            "Unique types frozenset:  frozenset({<class 'bool'>, <class 'int'>, <class 'float'>, <class 'str'>})\n",
            "\n",
            " ---------\n",
            "\n",
            "Current time 2025-07-17 13:09:53.353604\n"
          ]
        }
      ],
      "source": [
        "#𝗣𝗿𝗼𝗷𝗲𝗰𝘁 𝗤𝘂𝗲𝘀𝘁𝗶𝗼𝗻 # 𝟰 – 𝗗𝗮𝘁𝗮 𝗧𝘆𝗽𝗲 𝗧𝗲𝘀𝘁𝗲𝗿 𝗧𝗼𝗼𝗹\n",
        "\n",
        "#🧠 Build a utility that:\n",
        "#Takes a mixed list input: e.g. [\"100\", 3.14, \"True\", 50, \"hello\"]\n",
        "#Use loop, type(), isinstance() to check types\n",
        "#For numeric: multiply by 2\n",
        "#For string: convert to uppercase\n",
        "#For boolean strings: convert to actual bool\n",
        "#Store results in a dictionary labeled \"numeric\", \"text\", or \"other\"\n",
        "#Use a set to gather unique types and convert to frozenset\n",
        "#Define functions: classify_type(), cast_and_operate()\n",
        "#Use math.sqrt() for numeric inputs\n",
        "#Use random.randint() to inject a test case\n",
        "#Use datetime.now() to timestamp the result\n",
        "\n",
        "\n",
        "\n",
        "import random\n",
        "import math\n",
        "import datetime\n",
        "mixed_list = []\n",
        "numerics = []\n",
        "text = []\n",
        "other = []\n",
        "def classify_type():\n",
        "    raw_items = input(\"Enter a mixed list (seperated by commas): \")\n",
        "    items = raw_items.split(',')\n",
        "    mixed_list.append(random.randint(1, 100))\n",
        "    numerics.append(random.randint(1, 100))\n",
        "    for item in items:\n",
        "        item = item.strip()\n",
        "        if item.isdigit():\n",
        "            mixed_list.append(int(item))\n",
        "            numerics.append(int(item))\n",
        "        elif '.' in item:\n",
        "            try:\n",
        "                mixed_list.append(float(item))\n",
        "                numerics.append(float(item))\n",
        "            except:\n",
        "                mixed_list.append(item)\n",
        "                text.append(item)\n",
        "        elif item.lower() == \"true\":\n",
        "            mixed_list.append(True)\n",
        "            other.append(True)\n",
        "        elif item.lower() == \"false\":\n",
        "            mixed_list.append(False)\n",
        "            other.append(False)\n",
        "        else:\n",
        "            mixed_list.append(item)\n",
        "            text.append(item)\n",
        "    type_dict = {\"numeric\": numerics, \"text\": text, \"other\": other}\n",
        "    print(type_dict)\n",
        "def cast_and_operate(mixed_list):\n",
        "    results = []\n",
        "    print(\"\\n\")\n",
        "    for item in mixed_list:\n",
        "        result_dict = {}\n",
        "        if isinstance(item, bool):\n",
        "            result_dict[\"Original\"] = item\n",
        "            result_dict[\"Received bool item\"] = item\n",
        "        elif isinstance(item, (int,float)):\n",
        "            result_dict[\"Original\"] = item\n",
        "            result_dict[\"Product of numeric item with 2\"] =  item * 2\n",
        "            result_dict[\"Square root of numeric item\"] = math.sqrt(item)\n",
        "        elif isinstance(item, str):\n",
        "            result_dict[\"Original\"] = item\n",
        "            result_dict[\"String item in uppercase\"] = item.upper()\n",
        "\n",
        "        else:\n",
        "            result_dict[\"Invalid item\"] = item\n",
        "        results.append(result_dict)\n",
        "    for r in results:\n",
        "        print(r)\n",
        "classify_type()\n",
        "cast_and_operate(mixed_list)\n",
        "type_set = set()\n",
        "for i in mixed_list:\n",
        "    type_set.add(type(i))\n",
        "type_frozenset = frozenset(type_set)\n",
        "print(\"Unique types frozenset: \", type_frozenset)\n",
        "print(\"\\n ---------\\n\")\n",
        "print(\"Current time\", datetime.datetime.now())"
      ]
    }
  ]
}